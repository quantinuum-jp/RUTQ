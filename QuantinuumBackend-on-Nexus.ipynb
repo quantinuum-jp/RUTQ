{
 "cells": [
  {
   "cell_type": "markdown",
   "id": "ec1ee332-5622-4799-99dc-c9d5eb99a947",
   "metadata": {},
   "source": [
    "# NexusでのQuantinuumBackendの設定"
   ]
  },
  {
   "cell_type": "code",
   "execution_count": null,
   "id": "136ea52b-b9b8-49b8-ba54-be81e74b4620",
   "metadata": {},
   "outputs": [],
   "source": [
    "from pytket.extensions.nexus import Nexus, NexusBackend, QuantinuumConfig\n",
    "from pytket.extensions.nexus.backends import NexusBackend\n",
    "proj = Nexus().get_project_by_name(\"your_name_202409\")\n",
    "# Example of building a NexusBackend from a QuantinuumConfig\n",
    "configuration = QuantinuumConfig(device_name=\"H1-1LE\")\n",
    "backend = NexusBackend(configuration, proj)"
   ]
  }
 ],
 "metadata": {
  "kernelspec": {
   "display_name": "Python [conda env:base] *",
   "language": "python",
   "name": "conda-base-py"
  },
  "language_info": {
   "codemirror_mode": {
    "name": "ipython",
    "version": 3
   },
   "file_extension": ".py",
   "mimetype": "text/x-python",
   "name": "python",
   "nbconvert_exporter": "python",
   "pygments_lexer": "ipython3",
   "version": "3.10.11"
  }
 },
 "nbformat": 4,
 "nbformat_minor": 5
}
